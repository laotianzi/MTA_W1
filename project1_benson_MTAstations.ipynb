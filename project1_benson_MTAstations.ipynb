{
 "cells": [
  {
   "cell_type": "markdown",
   "metadata": {},
   "source": [
    "# Project 1 Benson\n",
    "\n",
    "### Women Tech Women Yes company wanted a promotion of summit in autumn 2016, they needed a strategy for the street team to optimize the distribution of signups on MTA stations considering audiance would be women in tech. This project analyzed MTA turnstile data with demographics data, and find out the best time and stations for street team to get women in tech and people related to sign up for the event.\n",
    "\n",
    "\n",
    "MTA stations for women in tech: Pandas | statistics \n",
    "<br>\n",
    "• Found the busiest stations in NYC with statistics data.\n",
    "<br>\n",
    "• Revised the popular stations with high tech companies."
   ]
  },
  {
   "cell_type": "code",
   "execution_count": 1,
   "metadata": {
    "collapsed": true
   },
   "outputs": [],
   "source": [
    "from __future__ import print_function, division"
   ]
  },
  {
   "cell_type": "code",
   "execution_count": 3,
   "metadata": {
    "collapsed": true
   },
   "outputs": [],
   "source": [
    "import pandas as pd\n",
    "import numpy as np\n",
    "import datetime\n",
    "import matplotlib.pyplot as plt\n",
    "\n",
    "%matplotlib inline"
   ]
  },
  {
   "cell_type": "markdown",
   "metadata": {},
   "source": [
    "## I. Download three-month MTA turnstile data files and create DataFrame"
   ]
  },
  {
   "cell_type": "code",
   "execution_count": 13,
   "metadata": {},
   "outputs": [],
   "source": [
    "# Source: http://web.mta.info/developers/turnstile.html\n",
    "def get_data(week_nums):\n",
    "    url = \"http://web.mta.info/developers/data/nyct/turnstile/turnstile_{}.txt\"\n",
    "    dfs = []\n",
    "    for week_num in week_nums:\n",
    "        file_url = url.format(week_num)\n",
    "        dfs.append(pd.read_csv(file_url))\n",
    "    return pd.concat(dfs)\n",
    "        \n",
    "week_nums = [160903, 160910, 160917, 160924]\n",
    "turnstiles_df = get_data(week_nums)"
   ]
  },
  {
   "cell_type": "code",
   "execution_count": 6,
   "metadata": {},
   "outputs": [
    {
     "data": {
      "text/plain": [
       "Index(['C/A', 'UNIT', 'SCP', 'STATION', 'LINENAME', 'DIVISION', 'DATE', 'TIME',\n",
       "       'DESC', 'ENTRIES',\n",
       "       'EXITS                                                               '],\n",
       "      dtype='object')"
      ]
     },
     "execution_count": 6,
     "metadata": {},
     "output_type": "execute_result"
    }
   ],
   "source": [
    "turnstiles_df.columns"
   ]
  },
  {
   "cell_type": "code",
   "execution_count": 7,
   "metadata": {
    "collapsed": true
   },
   "outputs": [],
   "source": [
    "turnstiles_df.columns = [column.strip() for column in turnstiles_df.columns]"
   ]
  },
  {
   "cell_type": "code",
   "execution_count": 8,
   "metadata": {},
   "outputs": [
    {
     "data": {
      "text/plain": [
       "Index(['C/A', 'UNIT', 'SCP', 'STATION', 'LINENAME', 'DIVISION', 'DATE', 'TIME',\n",
       "       'DESC', 'ENTRIES', 'EXITS'],\n",
       "      dtype='object')"
      ]
     },
     "execution_count": 8,
     "metadata": {},
     "output_type": "execute_result"
    }
   ],
   "source": [
    "turnstiles_df.columns"
   ]
  },
  {
   "cell_type": "code",
   "execution_count": 23,
   "metadata": {},
   "outputs": [
    {
     "data": {
      "text/html": [
       "<div>\n",
       "<style>\n",
       "    .dataframe thead tr:only-child th {\n",
       "        text-align: right;\n",
       "    }\n",
       "\n",
       "    .dataframe thead th {\n",
       "        text-align: left;\n",
       "    }\n",
       "\n",
       "    .dataframe tbody tr th {\n",
       "        vertical-align: top;\n",
       "    }\n",
       "</style>\n",
       "<table border=\"1\" class=\"dataframe\">\n",
       "  <thead>\n",
       "    <tr style=\"text-align: right;\">\n",
       "      <th></th>\n",
       "      <th>C/A</th>\n",
       "      <th>UNIT</th>\n",
       "      <th>SCP</th>\n",
       "      <th>STATION</th>\n",
       "      <th>LINENAME</th>\n",
       "      <th>DIVISION</th>\n",
       "      <th>DATE</th>\n",
       "      <th>TIME</th>\n",
       "      <th>DESC</th>\n",
       "      <th>ENTRIES</th>\n",
       "      <th>EXITS</th>\n",
       "      <th>DATE_TIME</th>\n",
       "      <th>Year</th>\n",
       "    </tr>\n",
       "  </thead>\n",
       "  <tbody>\n",
       "    <tr>\n",
       "      <th>0</th>\n",
       "      <td>A002</td>\n",
       "      <td>R051</td>\n",
       "      <td>02-00-00</td>\n",
       "      <td>59 ST</td>\n",
       "      <td>NQR456</td>\n",
       "      <td>BMT</td>\n",
       "      <td>08/27/2016</td>\n",
       "      <td>00:00:00</td>\n",
       "      <td>REGULAR</td>\n",
       "      <td>5799442</td>\n",
       "      <td>1966041</td>\n",
       "      <td>2016-08-27</td>\n",
       "      <td>2016</td>\n",
       "    </tr>\n",
       "  </tbody>\n",
       "</table>\n",
       "</div>"
      ],
      "text/plain": [
       "    C/A  UNIT       SCP STATION LINENAME DIVISION        DATE      TIME  \\\n",
       "0  A002  R051  02-00-00   59 ST   NQR456      BMT  08/27/2016  00:00:00   \n",
       "\n",
       "      DESC  ENTRIES  \\\n",
       "0  REGULAR  5799442   \n",
       "\n",
       "   EXITS                                                                 \\\n",
       "0                                            1966041                      \n",
       "\n",
       "   DATE_TIME  Year  \n",
       "0 2016-08-27  2016  "
      ]
     },
     "execution_count": 23,
     "metadata": {},
     "output_type": "execute_result"
    }
   ],
   "source": [
    "turnstiles_df.head(1)"
   ]
  },
  {
   "cell_type": "code",
   "execution_count": 24,
   "metadata": {},
   "outputs": [
    {
     "data": {
      "text/html": [
       "<div>\n",
       "<style>\n",
       "    .dataframe thead tr:only-child th {\n",
       "        text-align: right;\n",
       "    }\n",
       "\n",
       "    .dataframe thead th {\n",
       "        text-align: left;\n",
       "    }\n",
       "\n",
       "    .dataframe tbody tr th {\n",
       "        vertical-align: top;\n",
       "    }\n",
       "</style>\n",
       "<table border=\"1\" class=\"dataframe\">\n",
       "  <thead>\n",
       "    <tr style=\"text-align: right;\">\n",
       "      <th></th>\n",
       "      <th>C/A</th>\n",
       "      <th>UNIT</th>\n",
       "      <th>SCP</th>\n",
       "      <th>STATION</th>\n",
       "      <th>LINENAME</th>\n",
       "      <th>DIVISION</th>\n",
       "      <th>DATE</th>\n",
       "      <th>TIME</th>\n",
       "      <th>DESC</th>\n",
       "      <th>ENTRIES</th>\n",
       "      <th>EXITS</th>\n",
       "      <th>DATE_TIME</th>\n",
       "      <th>Year</th>\n",
       "    </tr>\n",
       "  </thead>\n",
       "  <tbody>\n",
       "    <tr>\n",
       "      <th>192677</th>\n",
       "      <td>TRAM2</td>\n",
       "      <td>R469</td>\n",
       "      <td>00-05-01</td>\n",
       "      <td>RIT-ROOSEVELT</td>\n",
       "      <td>R</td>\n",
       "      <td>RIT</td>\n",
       "      <td>09/23/2016</td>\n",
       "      <td>21:00:00</td>\n",
       "      <td>REGULAR</td>\n",
       "      <td>5554</td>\n",
       "      <td>271</td>\n",
       "      <td>2016-09-23 21:00:00</td>\n",
       "      <td>2016</td>\n",
       "    </tr>\n",
       "  </tbody>\n",
       "</table>\n",
       "</div>"
      ],
      "text/plain": [
       "          C/A  UNIT       SCP        STATION LINENAME DIVISION        DATE  \\\n",
       "192677  TRAM2  R469  00-05-01  RIT-ROOSEVELT        R      RIT  09/23/2016   \n",
       "\n",
       "            TIME     DESC  ENTRIES  \\\n",
       "192677  21:00:00  REGULAR     5554   \n",
       "\n",
       "        EXITS                                                                 \\\n",
       "192677                                                271                      \n",
       "\n",
       "                 DATE_TIME  Year  \n",
       "192677 2016-09-23 21:00:00  2016  "
      ]
     },
     "execution_count": 24,
     "metadata": {},
     "output_type": "execute_result"
    }
   ],
   "source": [
    "turnstiles_df.tail(1)"
   ]
  },
  {
   "cell_type": "code",
   "execution_count": 11,
   "metadata": {},
   "outputs": [
    {
     "data": {
      "text/plain": [
       "08/27/2016    27290\n",
       "08/28/2016    27300\n",
       "08/29/2016    27828\n",
       "08/30/2016    27775\n",
       "08/31/2016    27352\n",
       "09/01/2016    28116\n",
       "09/02/2016    27478\n",
       "09/03/2016    27353\n",
       "09/04/2016    27304\n",
       "09/05/2016    27325\n",
       "09/06/2016    28826\n",
       "09/07/2016    27977\n",
       "09/08/2016    28137\n",
       "09/09/2016    27956\n",
       "09/10/2016    27325\n",
       "09/11/2016    27334\n",
       "09/12/2016    28074\n",
       "09/13/2016    27343\n",
       "09/14/2016    27359\n",
       "09/15/2016    27283\n",
       "09/16/2016    28160\n",
       "09/17/2016    27381\n",
       "09/18/2016    27320\n",
       "09/19/2016    27551\n",
       "09/20/2016    27812\n",
       "09/21/2016    28151\n",
       "09/22/2016    27221\n",
       "09/23/2016    27242\n",
       "Name: DATE, dtype: int64"
      ]
     },
     "execution_count": 11,
     "metadata": {},
     "output_type": "execute_result"
    }
   ],
   "source": [
    "# Four weeks of Data\n",
    "turnstiles_df.DATE.value_counts().sort_index()"
   ]
  },
  {
   "cell_type": "markdown",
   "metadata": {},
   "source": [
    "## II. Find the counts of daily entries in all stations."
   ]
  },
  {
   "cell_type": "code",
   "execution_count": 36,
   "metadata": {},
   "outputs": [
    {
     "name": "stdout",
     "output_type": "stream",
     "text": [
      "15427664 1298162.0\n",
      "1217 15427664.0\n",
      "16828025 75866.0\n",
      "1315 74672293.0\n",
      "100663296 1299.0\n",
      "117440514 100663296.0\n",
      "3 3655192.0\n",
      "12532758 5209271.0\n"
     ]
    },
    {
     "data": {
      "text/html": [
       "<div>\n",
       "<style>\n",
       "    .dataframe thead tr:only-child th {\n",
       "        text-align: right;\n",
       "    }\n",
       "\n",
       "    .dataframe thead th {\n",
       "        text-align: left;\n",
       "    }\n",
       "\n",
       "    .dataframe tbody tr th {\n",
       "        vertical-align: top;\n",
       "    }\n",
       "</style>\n",
       "<table border=\"1\" class=\"dataframe\">\n",
       "  <thead>\n",
       "    <tr style=\"text-align: right;\">\n",
       "      <th></th>\n",
       "      <th>C/A</th>\n",
       "      <th>UNIT</th>\n",
       "      <th>STATION-LINE</th>\n",
       "      <th>DATE</th>\n",
       "      <th>ENTRIES</th>\n",
       "      <th>PREV_DATE</th>\n",
       "      <th>PREV_ENTRIES</th>\n",
       "      <th>DAILY_ENTRIES</th>\n",
       "    </tr>\n",
       "  </thead>\n",
       "  <tbody>\n",
       "    <tr>\n",
       "      <th>1</th>\n",
       "      <td>A002</td>\n",
       "      <td>R051</td>\n",
       "      <td>59 ST NQR456</td>\n",
       "      <td>08/28/2016</td>\n",
       "      <td>5800252</td>\n",
       "      <td>08/27/2016</td>\n",
       "      <td>5799442.0</td>\n",
       "      <td>810.0</td>\n",
       "    </tr>\n",
       "    <tr>\n",
       "      <th>2</th>\n",
       "      <td>A002</td>\n",
       "      <td>R051</td>\n",
       "      <td>59 ST NQR456</td>\n",
       "      <td>08/29/2016</td>\n",
       "      <td>5800934</td>\n",
       "      <td>08/28/2016</td>\n",
       "      <td>5800252.0</td>\n",
       "      <td>682.0</td>\n",
       "    </tr>\n",
       "    <tr>\n",
       "      <th>3</th>\n",
       "      <td>A002</td>\n",
       "      <td>R051</td>\n",
       "      <td>59 ST NQR456</td>\n",
       "      <td>08/30/2016</td>\n",
       "      <td>5802514</td>\n",
       "      <td>08/29/2016</td>\n",
       "      <td>5800934.0</td>\n",
       "      <td>1580.0</td>\n",
       "    </tr>\n",
       "    <tr>\n",
       "      <th>4</th>\n",
       "      <td>A002</td>\n",
       "      <td>R051</td>\n",
       "      <td>59 ST NQR456</td>\n",
       "      <td>08/31/2016</td>\n",
       "      <td>5804071</td>\n",
       "      <td>08/30/2016</td>\n",
       "      <td>5802514.0</td>\n",
       "      <td>1557.0</td>\n",
       "    </tr>\n",
       "    <tr>\n",
       "      <th>5</th>\n",
       "      <td>A002</td>\n",
       "      <td>R051</td>\n",
       "      <td>59 ST NQR456</td>\n",
       "      <td>09/01/2016</td>\n",
       "      <td>5805638</td>\n",
       "      <td>08/31/2016</td>\n",
       "      <td>5804071.0</td>\n",
       "      <td>1567.0</td>\n",
       "    </tr>\n",
       "  </tbody>\n",
       "</table>\n",
       "</div>"
      ],
      "text/plain": [
       "    C/A  UNIT  STATION-LINE        DATE  ENTRIES   PREV_DATE  PREV_ENTRIES  \\\n",
       "1  A002  R051  59 ST NQR456  08/28/2016  5800252  08/27/2016     5799442.0   \n",
       "2  A002  R051  59 ST NQR456  08/29/2016  5800934  08/28/2016     5800252.0   \n",
       "3  A002  R051  59 ST NQR456  08/30/2016  5802514  08/29/2016     5800934.0   \n",
       "4  A002  R051  59 ST NQR456  08/31/2016  5804071  08/30/2016     5802514.0   \n",
       "5  A002  R051  59 ST NQR456  09/01/2016  5805638  08/31/2016     5804071.0   \n",
       "\n",
       "   DAILY_ENTRIES  \n",
       "1          810.0  \n",
       "2          682.0  \n",
       "3         1580.0  \n",
       "4         1557.0  \n",
       "5         1567.0  "
      ]
     },
     "execution_count": 36,
     "metadata": {},
     "output_type": "execute_result"
    }
   ],
   "source": [
    "def clean_data(rawdata):\n",
    "    rawdata['STATION-LINE'] = rawdata['STATION']+' '+rawdata['LINENAME']\n",
    "    rawdata['DATE-TIME'] = pd.to_datetime(rawdata.DATE + ' ' + rawdata.TIME, format = \"%m/%d/%Y %H:%M:%S\")\n",
    "    gb_turnstilea = rawdata.groupby(['C/A', 'UNIT','STATION-LINE','DATE'])\n",
    "\n",
    "    gb_turnstilea_daily = gb_turnstilea.ENTRIES.first().reset_index()\n",
    "\n",
    "    gb_turnstilea_daily[['PREV_DATE', 'PREV_ENTRIES']] = (gb_turnstilea_daily\n",
    "                                                    .groupby(['C/A', 'UNIT', 'STATION-LINE'])['DATE', 'ENTRIES']\n",
    "                                                    .transform(lambda grp: grp.shift(1)))\n",
    "    \n",
    "    gb_turnstilea_daily.dropna(subset=['PREV_DATE'], axis=0, inplace=True)\n",
    "    gb_turnstilea_daily[gb_turnstilea_daily['ENTRIES'] < gb_turnstilea_daily['PREV_ENTRIES']].head(10)\n",
    "    gb_turnstilea_daily[\"DAILY_ENTRIES\"] = gb_turnstilea_daily.apply(daily_counts, axis=1, max_counter=1000000)\n",
    "\n",
    "    return gb_turnstilea_daily\n",
    "\n",
    "\n",
    "def daily_counts(row, max_counter):\n",
    "    counter = row['ENTRIES'] - row['PREV_ENTRIES']\n",
    "    if counter < 0:\n",
    "        counter = -counter\n",
    "    if counter > max_counter:\n",
    "        print(row['ENTRIES'], row['PREV_ENTRIES'])\n",
    "        return 0\n",
    "    return counter\n",
    "\n",
    "gb_turnstilea_daily = clean_data(turnstiles_df)\n",
    "gb_turnstilea_daily.head()"
   ]
  },
  {
   "cell_type": "code",
   "execution_count": 37,
   "metadata": {
    "collapsed": true
   },
   "outputs": [],
   "source": [
    "def daily_station(cleandata):\n",
    "    station_daily = gb_turnstilea_daily.sort_values(['STATION-LINE','DATE'])\n",
    "    station_daily_gb = station_daily.groupby(['STATION-LINE','DATE'])\n",
    "\n",
    "    dict_station = {}\n",
    "    daily_keys = station_daily_gb.groups.keys()\n",
    "    for key in daily_keys:\n",
    "        daily_list = [key[1], station_daily_gb\n",
    "                             .get_group(key)\n",
    "                             .groupby('DATE')['DAILY_ENTRIES']\n",
    "                             .sum()[key[1]]]\n",
    "        if key[0] in dict_station:\n",
    "            dict_station[key[0]].append(daily_list)\n",
    "        else:\n",
    "            dict_station[key[0]] = [daily_list] \n",
    "    return dict_station\n",
    "\n",
    "dict_station = daily_station(gb_turnstilea_daily)"
   ]
  },
  {
   "cell_type": "code",
   "execution_count": 42,
   "metadata": {},
   "outputs": [
    {
     "data": {
      "text/plain": [
       "(array([ 736204.,  736207.,  736210.,  736213.,  736216.,  736219.,\n",
       "         736222.,  736225.,  736228.,  736231.]),\n",
       " <a list of 10 Text xticklabel objects>)"
      ]
     },
     "execution_count": 42,
     "metadata": {},
     "output_type": "execute_result"
    },
    {
     "data": {
      "image/png": "[encoded data removed]",
      "text/plain": [
       "<matplotlib.figure.Figure at 0x112619748>"
      ]
     },
     "metadata": {},
     "output_type": "display_data"
    }
   ],
   "source": [
    "lists = dict_station['1 AV L']\n",
    "\n",
    "date_vs=[]\n",
    "for i in range(len(lists)):\n",
    "    date_vs.append(parser.parse(lists[i][0]))\n",
    "\n",
    "entry_vs=[]\n",
    "for j in range(len(lists)):\n",
    "    entry_vs.append(lists[j][1])\n",
    "    \n",
    "plt.figure(figsize=(10,3))\n",
    "plt.plot(date_vs,entry_vs)\n",
    "plt.title('Daily entries of Line L at Station 1 Av\\n'\n",
    "         'From Aug.28 to Sep.24,2016')\n",
    "plt.xlabel('Date')\n",
    "plt.ylabel('Numbter of entries')\n",
    "plt.xticks(rotation=45)"
   ]
  },
  {
   "cell_type": "code",
   "execution_count": 45,
   "metadata": {},
   "outputs": [],
   "source": [
    "gb_turnstilea_daily['DAY'] = gb_turnstilea_daily['DATE'].map(lambda day: parser.parse(day).weekday())\n",
    "station_weekly_clean = gb_turnstilea_daily[gb_turnstilea_daily['DAILY_ENTRIES']<20000]"
   ]
  },
  {
   "cell_type": "code",
   "execution_count": 51,
   "metadata": {},
   "outputs": [
    {
     "data": {
      "text/html": [
       "<div>\n",
       "<style>\n",
       "    .dataframe thead tr:only-child th {\n",
       "        text-align: right;\n",
       "    }\n",
       "\n",
       "    .dataframe thead th {\n",
       "        text-align: left;\n",
       "    }\n",
       "\n",
       "    .dataframe tbody tr th {\n",
       "        vertical-align: top;\n",
       "    }\n",
       "</style>\n",
       "<table border=\"1\" class=\"dataframe\">\n",
       "  <thead>\n",
       "    <tr style=\"text-align: right;\">\n",
       "      <th></th>\n",
       "      <th>C/A</th>\n",
       "      <th>UNIT</th>\n",
       "      <th>STATION-LINE</th>\n",
       "      <th>DATE</th>\n",
       "      <th>ENTRIES</th>\n",
       "      <th>PREV_DATE</th>\n",
       "      <th>PREV_ENTRIES</th>\n",
       "      <th>DAILY_ENTRIES</th>\n",
       "      <th>DAY</th>\n",
       "    </tr>\n",
       "  </thead>\n",
       "  <tbody>\n",
       "    <tr>\n",
       "      <th>4693</th>\n",
       "      <td>JFK01</td>\n",
       "      <td>R535</td>\n",
       "      <td>HOWARD BCH JFK A</td>\n",
       "      <td>09/13/2016</td>\n",
       "      <td>33</td>\n",
       "      <td>09/12/2016</td>\n",
       "      <td>24318.0</td>\n",
       "      <td>24285.0</td>\n",
       "      <td>1</td>\n",
       "    </tr>\n",
       "    <tr>\n",
       "      <th>4743</th>\n",
       "      <td>JFK03</td>\n",
       "      <td>R536</td>\n",
       "      <td>JFK JAMAICA CT1 E</td>\n",
       "      <td>09/07/2016</td>\n",
       "      <td>348</td>\n",
       "      <td>09/06/2016</td>\n",
       "      <td>61499.0</td>\n",
       "      <td>61151.0</td>\n",
       "      <td>2</td>\n",
       "    </tr>\n",
       "    <tr>\n",
       "      <th>8112</th>\n",
       "      <td>N206</td>\n",
       "      <td>R104</td>\n",
       "      <td>167 ST BD</td>\n",
       "      <td>09/16/2016</td>\n",
       "      <td>262144</td>\n",
       "      <td>09/15/2016</td>\n",
       "      <td>291.0</td>\n",
       "      <td>261853.0</td>\n",
       "      <td>4</td>\n",
       "    </tr>\n",
       "    <tr>\n",
       "      <th>8614</th>\n",
       "      <td>N303</td>\n",
       "      <td>R015</td>\n",
       "      <td>5 AV/53 ST EM</td>\n",
       "      <td>09/16/2016</td>\n",
       "      <td>12365978</td>\n",
       "      <td>09/15/2016</td>\n",
       "      <td>12311142.0</td>\n",
       "      <td>54836.0</td>\n",
       "      <td>4</td>\n",
       "    </tr>\n",
       "    <tr>\n",
       "      <th>8615</th>\n",
       "      <td>N303</td>\n",
       "      <td>R015</td>\n",
       "      <td>5 AV/53 ST EM</td>\n",
       "      <td>09/17/2016</td>\n",
       "      <td>12317869</td>\n",
       "      <td>09/16/2016</td>\n",
       "      <td>12365978.0</td>\n",
       "      <td>48109.0</td>\n",
       "      <td>5</td>\n",
       "    </tr>\n",
       "    <tr>\n",
       "      <th>8616</th>\n",
       "      <td>N303</td>\n",
       "      <td>R015</td>\n",
       "      <td>5 AV/53 ST EM</td>\n",
       "      <td>09/18/2016</td>\n",
       "      <td>12365990</td>\n",
       "      <td>09/17/2016</td>\n",
       "      <td>12317869.0</td>\n",
       "      <td>48121.0</td>\n",
       "      <td>6</td>\n",
       "    </tr>\n",
       "    <tr>\n",
       "      <th>12166</th>\n",
       "      <td>PTH09</td>\n",
       "      <td>R548</td>\n",
       "      <td>CHRISTOPHER ST 1</td>\n",
       "      <td>09/23/2016</td>\n",
       "      <td>670029</td>\n",
       "      <td>09/22/2016</td>\n",
       "      <td>149829.0</td>\n",
       "      <td>520200.0</td>\n",
       "      <td>4</td>\n",
       "    </tr>\n",
       "    <tr>\n",
       "      <th>12276</th>\n",
       "      <td>PTH13</td>\n",
       "      <td>R541</td>\n",
       "      <td>THIRTY ST 1</td>\n",
       "      <td>09/21/2016</td>\n",
       "      <td>1143</td>\n",
       "      <td>09/20/2016</td>\n",
       "      <td>22866.0</td>\n",
       "      <td>21723.0</td>\n",
       "      <td>2</td>\n",
       "    </tr>\n",
       "  </tbody>\n",
       "</table>\n",
       "</div>"
      ],
      "text/plain": [
       "         C/A  UNIT       STATION-LINE        DATE   ENTRIES   PREV_DATE  \\\n",
       "4693   JFK01  R535   HOWARD BCH JFK A  09/13/2016        33  09/12/2016   \n",
       "4743   JFK03  R536  JFK JAMAICA CT1 E  09/07/2016       348  09/06/2016   \n",
       "8112    N206  R104          167 ST BD  09/16/2016    262144  09/15/2016   \n",
       "8614    N303  R015      5 AV/53 ST EM  09/16/2016  12365978  09/15/2016   \n",
       "8615    N303  R015      5 AV/53 ST EM  09/17/2016  12317869  09/16/2016   \n",
       "8616    N303  R015      5 AV/53 ST EM  09/18/2016  12365990  09/17/2016   \n",
       "12166  PTH09  R548   CHRISTOPHER ST 1  09/23/2016    670029  09/22/2016   \n",
       "12276  PTH13  R541        THIRTY ST 1  09/21/2016      1143  09/20/2016   \n",
       "\n",
       "       PREV_ENTRIES  DAILY_ENTRIES  DAY  \n",
       "4693        24318.0        24285.0    1  \n",
       "4743        61499.0        61151.0    2  \n",
       "8112          291.0       261853.0    4  \n",
       "8614     12311142.0        54836.0    4  \n",
       "8615     12365978.0        48109.0    5  \n",
       "8616     12317869.0        48121.0    6  \n",
       "12166      149829.0       520200.0    4  \n",
       "12276       22866.0        21723.0    2  "
      ]
     },
     "execution_count": 51,
     "metadata": {},
     "output_type": "execute_result"
    }
   ],
   "source": [
    "gb_turnstilea_daily[gb_turnstilea_daily['DAILY_ENTRIES']>20000]\n",
    "# list outlier, and exclude them in sorting next cell."
   ]
  },
  {
   "cell_type": "markdown",
   "metadata": {},
   "source": [
    "## III. Get the top stations during required time series."
   ]
  },
  {
   "cell_type": "code",
   "execution_count": 52,
   "metadata": {},
   "outputs": [
    {
     "data": {
      "text/plain": [
       "STATION-LINE\n",
       "GRD CNTRL-42 ST 4567S          332713.0\n",
       "34 ST-HERALD SQ BDFMNQR        269748.0\n",
       "42 ST-PORT AUTH ACENQRS1237    246581.0\n",
       "TIMES SQ-42 ST 1237ACENQRS     217337.0\n",
       "59 ST 456NQR                   190059.0\n",
       "FULTON ST 2345ACJZ             187608.0\n",
       "59 ST COLUMBUS ABCD1           186201.0\n",
       "34 ST-PENN STA ACE             183070.0\n",
       "14 ST-UNION SQ 456LNQR         160532.0\n",
       "CANAL ST JNQRZ6                159802.0\n",
       "Name: DAILY_ENTRIES, dtype: float64"
      ]
     },
     "execution_count": 52,
     "metadata": {},
     "output_type": "execute_result"
    }
   ],
   "source": [
    "top_station_weekly = station_weekly_clean.groupby(['STATION-LINE']).DAILY_ENTRIES.sum().sort_values(ascending = False)\n",
    "top_station_weekly.head(10)"
   ]
  },
  {
   "cell_type": "code",
   "execution_count": 60,
   "metadata": {},
   "outputs": [
    {
     "data": {
      "text/plain": [
       "<matplotlib.text.Text at 0x110a9cfd0>"
      ]
     },
     "execution_count": 60,
     "metadata": {},
     "output_type": "execute_result"
    },
    {
     "data": {
      "image/png": "[encoded data removed]",
      "text/plain": [
       "<matplotlib.figure.Figure at 0x11037bd68>"
      ]
     },
     "metadata": {},
     "output_type": "display_data"
    }
   ],
   "source": [
    "indices = range(len(top_station_weekly.head(100)))\n",
    "plt.bar(indices, top_station_weekly.head(100))\n",
    "# plt.xticks(indices,top_station_weekly.keys(),rotation='vertical')\n",
    "plt.title('Top 100 Stations in NYC\\n'\n",
    "         'From Aug.28 to Sep.24,2016')"
   ]
  },
  {
   "cell_type": "code",
   "execution_count": 59,
   "metadata": {},
   "outputs": [
    {
     "data": {
      "text/plain": [
       "(array([0, 1, 2, 3, 4, 5, 6, 7, 8, 9]), <a list of 10 Text xticklabel objects>)"
      ]
     },
     "execution_count": 59,
     "metadata": {},
     "output_type": "execute_result"
    },
    {
     "data": {
      "image/png": "[encoded data removed]",
      "text/plain": [
       "<matplotlib.figure.Figure at 0x1106ac128>"
      ]
     },
     "metadata": {},
     "output_type": "display_data"
    }
   ],
   "source": [
    "indices = range(len(top_station_weekly.head(10)))\n",
    "plt.bar(indices, top_station_weekly.head(10))\n",
    "plt.xticks(indices,top_station_weekly.keys(),rotation='vertical')\n",
    "plt.title('Top 10 Stations in NYC\\n'\n",
    "         'From Aug.28 to Sep.24,2016')\n",
    "plt.xlabel('Stations')\n",
    "plt.ylabel('Numbter of entries')\n",
    "plt.xticks(rotation=70)"
   ]
  },
  {
   "cell_type": "code",
   "execution_count": null,
   "metadata": {
    "collapsed": true
   },
   "outputs": [],
   "source": []
  }
 ],
 "metadata": {
  "kernelspec": {
   "display_name": "Python 3",
   "language": "python",
   "name": "python3"
  },
  "language_info": {
   "codemirror_mode": {
    "name": "ipython",
    "version": 3
   },
   "file_extension": ".py",
   "mimetype": "text/x-python",
   "name": "python",
   "nbconvert_exporter": "python",
   "pygments_lexer": "ipython3",
   "version": "3.6.1"
  }
 },
 "nbformat": 4,
 "nbformat_minor": 1
}
